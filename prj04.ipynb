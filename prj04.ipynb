{
 "cells": [
  {
   "cell_type": "markdown",
   "metadata": {
    "collapsed": false
   },
   "source": [
    "Finding implied volatility with the following parameters on SPY:\n",
    "\n",
    "- Today: Sep 27, 2018\n",
    "\n",
    "- Spot price: 290.68\n",
    "\n",
    "- Maturity: Dec 31, 2018\n",
    "\n",
    "- Strike: 288\n",
    "\n",
    "- rate: 0.02 (from https://www.treasury.gov/resource-center/data-chart-center/interest-rates/Pages/TextView.aspx?data=yield)\n",
    "\n",
    "- Call price = 9.23\n",
    "\n",
    "Todo\n",
    "\n",
    "If the volatility is $30\\%$, what is the difference between BSM call price and market call price?\n",
    "Compute the implied volatility."
   ]
  },
  {
   "cell_type": "code",
   "execution_count": 21,
   "metadata": {
    "collapsed": false
   },
   "outputs": [
   ],
   "source": [
    "%reset -f"
   ]
  },
  {
   "cell_type": "code",
   "execution_count": 22,
   "metadata": {
    "collapsed": false
   },
   "outputs": [
   ],
   "source": [
    "import numpy as np\n",
    "import scipy.stats as ss\n",
    "import scipy.optimize as so\n",
    "import math\n",
    "import time"
   ]
  },
  {
   "cell_type": "code",
   "execution_count": 23,
   "metadata": {
    "collapsed": false
   },
   "outputs": [
   ],
   "source": [
    "Today = np.datetime64('2018-09-27')\n",
    "Maturity = np.datetime64('2018-12-31')\n",
    "T = (Maturity - Today)/np.timedelta64(1,'D')/365 #time to maturity in year\n",
    "S0 = 290.68 \n",
    "K = 288.\n",
    "r = 0.02\n",
    "sigma = 0.3\n",
    "Call = 9.23"
   ]
  },
  {
   "cell_type": "code",
   "execution_count": 24,
   "metadata": {
    "collapsed": false
   },
   "outputs": [
   ],
   "source": [
    "def d1f(St, K, t, T, r, sigma):\n",
    "    ''' Black-Scholes-Merton d1 function.\n",
    "    Parameters see e.g. BSM_call_value function. '''\n",
    "    d1 = (math.log(St / K) + (r + 0.5 * sigma ** 2)\n",
    "            *(T - t)) / (sigma * math.sqrt(T - t))\n",
    "    return d1\n",
    "def BSM_call_value(St, K, t, T, r, sigma):\n",
    "    d1 = d1f(St, K, t, T, r, sigma)\n",
    "    d2 = d1 - sigma * math.sqrt(T - t)\n",
    "    call_value = St * ss.norm.cdf(d1) - math.exp(-r * (T - t)) * K * ss.norm.cdf(d2)\n",
    "    return call_value"
   ]
  },
  {
   "cell_type": "code",
   "execution_count": 25,
   "metadata": {
    "collapsed": false
   },
   "outputs": [
    {
     "name": "stdout",
     "output_type": "stream",
     "text": [
      "the BSM call price with volatility 30% = 19.769937820552116\n"
     ]
    }
   ],
   "source": [
    "BSM_call_value = BSM_call_value(S0, K, 0, T, r, sigma)\n",
    "print('the BSM call price with volatility 30% =', BSM_call_value)"
   ]
  },
  {
   "cell_type": "code",
   "execution_count": 26,
   "metadata": {
    "collapsed": false
   },
   "outputs": [
    {
     "name": "stdout",
     "output_type": "stream",
     "text": [
      "the difference between BSM call price and market call price with 30% vol= 10.539937820552115\n"
     ]
    }
   ],
   "source": [
    "Difference = BSM_call_value - Call \n",
    "print('the difference between BSM call price and market call price with 30% vol=', Difference)"
   ]
  },
  {
   "cell_type": "code",
   "execution_count": 15,
   "metadata": {
    "collapsed": false
   },
   "outputs": [
    {
     "name": "stdout",
     "output_type": "stream",
     "text": [
      "\r\n",
      "from scipy import optimize\r\n",
      "from BSM_option_valuation import *\r\n",
      "\r\n",
      "def IVolBsm(S0, K, T, r, P0):\r\n",
      "    \"\"\"\r\n",
      "    Inputs:\r\n",
      "        S0: spot price\r\n",
      "        K: strike\r\n",
      "        T: time to maturity in year\r\n",
      "        r: rate\r\n",
      "        P0: market price\r\n",
      "    Outputs:\r\n",
      "        Implied volatility\r\n",
      "    \"\"\"\r\n",
      "    InitVol = .3\r\n",
      "    error = lambda sigma: (BSM_call_value(S0, K, 0, T, r, sigma) - P0)**2\r\n",
      "    opt = optimize.fmin(error, InitVol);\r\n",
      "    return opt[0]\r\n",
      "\r\n",
      "if __name__ == \"__main__\":\r\n",
      "    print('Implied volatility is', IVolBsm(100, 100, 1, .02, 9))\r\n",
      "\r\n",
      "\r\n",
      "\r\n",
      "\r\n",
      "\r\n"
     ]
    }
   ],
   "source": [
    "#Script is shown below\n",
    "%cat ImpliedVolatility.py\n"
   ]
  },
  {
   "cell_type": "code",
   "execution_count": 27,
   "metadata": {
    "collapsed": false
   },
   "outputs": [
   ],
   "source": [
    "import numpy as np\n",
    "from ImpliedVolatility import IVolBsm"
   ]
  },
  {
   "cell_type": "code",
   "execution_count": 28,
   "metadata": {
    "collapsed": false
   },
   "outputs": [
    {
     "name": "stdout",
     "output_type": "stream",
     "text": [
      "Optimization terminated successfully.\n",
      "         Current function value: 0.000000\n",
      "         Iterations: 15\n",
      "         Function evaluations: 30\n",
      "Implied volatility is 0.118242\n"
     ]
    }
   ],
   "source": [
    "print('Implied volatility is %f' %IVolBsm(S0, K, T, r, Call))"
   ]
  }
 ],
 "metadata": {
  "kernelspec": {
   "display_name": "Python 3 (Ubuntu Linux)",
   "language": "python",
   "name": "python3"
  },
  "language_info": {
   "codemirror_mode": {
    "name": "ipython",
    "version": 3
   },
   "file_extension": ".py",
   "mimetype": "text/x-python",
   "name": "python",
   "nbconvert_exporter": "python",
   "pygments_lexer": "ipython3",
   "version": "3.6.6"
  }
 },
 "nbformat": 4,
 "nbformat_minor": 0
}